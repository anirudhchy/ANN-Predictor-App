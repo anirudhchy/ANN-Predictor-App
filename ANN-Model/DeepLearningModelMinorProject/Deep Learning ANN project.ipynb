{
 "cells": [
  {
   "cell_type": "code",
   "execution_count": 44,
   "id": "89b0d212",
   "metadata": {},
   "outputs": [],
   "source": [
    "import pandas as pd\n",
    "import numpy as np\n",
    "import tensorflowjs as tfjs"
   ]
  },
  {
   "cell_type": "code",
   "execution_count": 45,
   "id": "607fba35",
   "metadata": {},
   "outputs": [],
   "source": [
    "df = pd.read_csv(\"HR_comma_sep.csv\")"
   ]
  },
  {
   "cell_type": "code",
   "execution_count": 46,
   "id": "4822eab9",
   "metadata": {},
   "outputs": [
    {
     "data": {
      "text/html": [
       "<div>\n",
       "<style scoped>\n",
       "    .dataframe tbody tr th:only-of-type {\n",
       "        vertical-align: middle;\n",
       "    }\n",
       "\n",
       "    .dataframe tbody tr th {\n",
       "        vertical-align: top;\n",
       "    }\n",
       "\n",
       "    .dataframe thead th {\n",
       "        text-align: right;\n",
       "    }\n",
       "</style>\n",
       "<table border=\"1\" class=\"dataframe\">\n",
       "  <thead>\n",
       "    <tr style=\"text-align: right;\">\n",
       "      <th></th>\n",
       "      <th>satisfaction_level</th>\n",
       "      <th>last_evaluation</th>\n",
       "      <th>number_project</th>\n",
       "      <th>average_montly_hours</th>\n",
       "      <th>time_spend_company</th>\n",
       "      <th>Work_accident</th>\n",
       "      <th>left</th>\n",
       "      <th>promotion_last_5years</th>\n",
       "      <th>department</th>\n",
       "      <th>salary</th>\n",
       "    </tr>\n",
       "  </thead>\n",
       "  <tbody>\n",
       "    <tr>\n",
       "      <th>0</th>\n",
       "      <td>0.38</td>\n",
       "      <td>0.53</td>\n",
       "      <td>2</td>\n",
       "      <td>157</td>\n",
       "      <td>3</td>\n",
       "      <td>0</td>\n",
       "      <td>1</td>\n",
       "      <td>0</td>\n",
       "      <td>sales</td>\n",
       "      <td>low</td>\n",
       "    </tr>\n",
       "    <tr>\n",
       "      <th>1</th>\n",
       "      <td>0.80</td>\n",
       "      <td>0.86</td>\n",
       "      <td>5</td>\n",
       "      <td>262</td>\n",
       "      <td>6</td>\n",
       "      <td>0</td>\n",
       "      <td>1</td>\n",
       "      <td>0</td>\n",
       "      <td>sales</td>\n",
       "      <td>medium</td>\n",
       "    </tr>\n",
       "    <tr>\n",
       "      <th>2</th>\n",
       "      <td>0.11</td>\n",
       "      <td>0.88</td>\n",
       "      <td>7</td>\n",
       "      <td>272</td>\n",
       "      <td>4</td>\n",
       "      <td>0</td>\n",
       "      <td>1</td>\n",
       "      <td>0</td>\n",
       "      <td>sales</td>\n",
       "      <td>medium</td>\n",
       "    </tr>\n",
       "    <tr>\n",
       "      <th>3</th>\n",
       "      <td>0.72</td>\n",
       "      <td>0.87</td>\n",
       "      <td>5</td>\n",
       "      <td>223</td>\n",
       "      <td>5</td>\n",
       "      <td>0</td>\n",
       "      <td>1</td>\n",
       "      <td>0</td>\n",
       "      <td>sales</td>\n",
       "      <td>low</td>\n",
       "    </tr>\n",
       "    <tr>\n",
       "      <th>4</th>\n",
       "      <td>0.37</td>\n",
       "      <td>0.52</td>\n",
       "      <td>2</td>\n",
       "      <td>159</td>\n",
       "      <td>3</td>\n",
       "      <td>0</td>\n",
       "      <td>1</td>\n",
       "      <td>0</td>\n",
       "      <td>sales</td>\n",
       "      <td>low</td>\n",
       "    </tr>\n",
       "  </tbody>\n",
       "</table>\n",
       "</div>"
      ],
      "text/plain": [
       "   satisfaction_level  last_evaluation  number_project  average_montly_hours  \\\n",
       "0                0.38             0.53               2                   157   \n",
       "1                0.80             0.86               5                   262   \n",
       "2                0.11             0.88               7                   272   \n",
       "3                0.72             0.87               5                   223   \n",
       "4                0.37             0.52               2                   159   \n",
       "\n",
       "   time_spend_company  Work_accident  left  promotion_last_5years department  \\\n",
       "0                   3              0     1                      0      sales   \n",
       "1                   6              0     1                      0      sales   \n",
       "2                   4              0     1                      0      sales   \n",
       "3                   5              0     1                      0      sales   \n",
       "4                   3              0     1                      0      sales   \n",
       "\n",
       "   salary  \n",
       "0     low  \n",
       "1  medium  \n",
       "2  medium  \n",
       "3     low  \n",
       "4     low  "
      ]
     },
     "execution_count": 46,
     "metadata": {},
     "output_type": "execute_result"
    }
   ],
   "source": [
    "df.head()"
   ]
  },
  {
   "cell_type": "markdown",
   "id": "819a5e78",
   "metadata": {},
   "source": [
    "# Creating dummy variables of categorical columns"
   ]
  },
  {
   "cell_type": "code",
   "execution_count": 47,
   "id": "b47f257f",
   "metadata": {},
   "outputs": [],
   "source": [
    "feats = ['department','salary']\n",
    "df_final = pd.get_dummies(df,columns=feats,drop_first=True)"
   ]
  },
  {
   "cell_type": "code",
   "execution_count": 48,
   "id": "a74726e1",
   "metadata": {},
   "outputs": [
    {
     "data": {
      "text/html": [
       "<div>\n",
       "<style scoped>\n",
       "    .dataframe tbody tr th:only-of-type {\n",
       "        vertical-align: middle;\n",
       "    }\n",
       "\n",
       "    .dataframe tbody tr th {\n",
       "        vertical-align: top;\n",
       "    }\n",
       "\n",
       "    .dataframe thead th {\n",
       "        text-align: right;\n",
       "    }\n",
       "</style>\n",
       "<table border=\"1\" class=\"dataframe\">\n",
       "  <thead>\n",
       "    <tr style=\"text-align: right;\">\n",
       "      <th></th>\n",
       "      <th>satisfaction_level</th>\n",
       "      <th>last_evaluation</th>\n",
       "      <th>number_project</th>\n",
       "      <th>average_montly_hours</th>\n",
       "      <th>time_spend_company</th>\n",
       "      <th>Work_accident</th>\n",
       "      <th>left</th>\n",
       "      <th>promotion_last_5years</th>\n",
       "      <th>department_RandD</th>\n",
       "      <th>department_accounting</th>\n",
       "      <th>department_hr</th>\n",
       "      <th>department_management</th>\n",
       "      <th>department_marketing</th>\n",
       "      <th>department_product_mng</th>\n",
       "      <th>department_sales</th>\n",
       "      <th>department_support</th>\n",
       "      <th>department_technical</th>\n",
       "      <th>salary_low</th>\n",
       "      <th>salary_medium</th>\n",
       "    </tr>\n",
       "  </thead>\n",
       "  <tbody>\n",
       "    <tr>\n",
       "      <th>0</th>\n",
       "      <td>0.38</td>\n",
       "      <td>0.53</td>\n",
       "      <td>2</td>\n",
       "      <td>157</td>\n",
       "      <td>3</td>\n",
       "      <td>0</td>\n",
       "      <td>1</td>\n",
       "      <td>0</td>\n",
       "      <td>0</td>\n",
       "      <td>0</td>\n",
       "      <td>0</td>\n",
       "      <td>0</td>\n",
       "      <td>0</td>\n",
       "      <td>0</td>\n",
       "      <td>1</td>\n",
       "      <td>0</td>\n",
       "      <td>0</td>\n",
       "      <td>1</td>\n",
       "      <td>0</td>\n",
       "    </tr>\n",
       "    <tr>\n",
       "      <th>1</th>\n",
       "      <td>0.80</td>\n",
       "      <td>0.86</td>\n",
       "      <td>5</td>\n",
       "      <td>262</td>\n",
       "      <td>6</td>\n",
       "      <td>0</td>\n",
       "      <td>1</td>\n",
       "      <td>0</td>\n",
       "      <td>0</td>\n",
       "      <td>0</td>\n",
       "      <td>0</td>\n",
       "      <td>0</td>\n",
       "      <td>0</td>\n",
       "      <td>0</td>\n",
       "      <td>1</td>\n",
       "      <td>0</td>\n",
       "      <td>0</td>\n",
       "      <td>0</td>\n",
       "      <td>1</td>\n",
       "    </tr>\n",
       "    <tr>\n",
       "      <th>2</th>\n",
       "      <td>0.11</td>\n",
       "      <td>0.88</td>\n",
       "      <td>7</td>\n",
       "      <td>272</td>\n",
       "      <td>4</td>\n",
       "      <td>0</td>\n",
       "      <td>1</td>\n",
       "      <td>0</td>\n",
       "      <td>0</td>\n",
       "      <td>0</td>\n",
       "      <td>0</td>\n",
       "      <td>0</td>\n",
       "      <td>0</td>\n",
       "      <td>0</td>\n",
       "      <td>1</td>\n",
       "      <td>0</td>\n",
       "      <td>0</td>\n",
       "      <td>0</td>\n",
       "      <td>1</td>\n",
       "    </tr>\n",
       "    <tr>\n",
       "      <th>3</th>\n",
       "      <td>0.72</td>\n",
       "      <td>0.87</td>\n",
       "      <td>5</td>\n",
       "      <td>223</td>\n",
       "      <td>5</td>\n",
       "      <td>0</td>\n",
       "      <td>1</td>\n",
       "      <td>0</td>\n",
       "      <td>0</td>\n",
       "      <td>0</td>\n",
       "      <td>0</td>\n",
       "      <td>0</td>\n",
       "      <td>0</td>\n",
       "      <td>0</td>\n",
       "      <td>1</td>\n",
       "      <td>0</td>\n",
       "      <td>0</td>\n",
       "      <td>1</td>\n",
       "      <td>0</td>\n",
       "    </tr>\n",
       "    <tr>\n",
       "      <th>4</th>\n",
       "      <td>0.37</td>\n",
       "      <td>0.52</td>\n",
       "      <td>2</td>\n",
       "      <td>159</td>\n",
       "      <td>3</td>\n",
       "      <td>0</td>\n",
       "      <td>1</td>\n",
       "      <td>0</td>\n",
       "      <td>0</td>\n",
       "      <td>0</td>\n",
       "      <td>0</td>\n",
       "      <td>0</td>\n",
       "      <td>0</td>\n",
       "      <td>0</td>\n",
       "      <td>1</td>\n",
       "      <td>0</td>\n",
       "      <td>0</td>\n",
       "      <td>1</td>\n",
       "      <td>0</td>\n",
       "    </tr>\n",
       "  </tbody>\n",
       "</table>\n",
       "</div>"
      ],
      "text/plain": [
       "   satisfaction_level  last_evaluation  number_project  average_montly_hours  \\\n",
       "0                0.38             0.53               2                   157   \n",
       "1                0.80             0.86               5                   262   \n",
       "2                0.11             0.88               7                   272   \n",
       "3                0.72             0.87               5                   223   \n",
       "4                0.37             0.52               2                   159   \n",
       "\n",
       "   time_spend_company  Work_accident  left  promotion_last_5years  \\\n",
       "0                   3              0     1                      0   \n",
       "1                   6              0     1                      0   \n",
       "2                   4              0     1                      0   \n",
       "3                   5              0     1                      0   \n",
       "4                   3              0     1                      0   \n",
       "\n",
       "   department_RandD  department_accounting  department_hr  \\\n",
       "0                 0                      0              0   \n",
       "1                 0                      0              0   \n",
       "2                 0                      0              0   \n",
       "3                 0                      0              0   \n",
       "4                 0                      0              0   \n",
       "\n",
       "   department_management  department_marketing  department_product_mng  \\\n",
       "0                      0                     0                       0   \n",
       "1                      0                     0                       0   \n",
       "2                      0                     0                       0   \n",
       "3                      0                     0                       0   \n",
       "4                      0                     0                       0   \n",
       "\n",
       "   department_sales  department_support  department_technical  salary_low  \\\n",
       "0                 1                   0                     0           1   \n",
       "1                 1                   0                     0           0   \n",
       "2                 1                   0                     0           0   \n",
       "3                 1                   0                     0           1   \n",
       "4                 1                   0                     0           1   \n",
       "\n",
       "   salary_medium  \n",
       "0              0  \n",
       "1              1  \n",
       "2              1  \n",
       "3              0  \n",
       "4              0  "
      ]
     },
     "execution_count": 48,
     "metadata": {},
     "output_type": "execute_result"
    }
   ],
   "source": [
    "df_final.head()"
   ]
  },
  {
   "cell_type": "code",
   "execution_count": 49,
   "id": "58c91409",
   "metadata": {},
   "outputs": [
    {
     "data": {
      "text/plain": [
       "(14999, 19)"
      ]
     },
     "execution_count": 49,
     "metadata": {},
     "output_type": "execute_result"
    }
   ],
   "source": [
    "df_final.shape"
   ]
  },
  {
   "cell_type": "markdown",
   "id": "d4617c21",
   "metadata": {},
   "source": [
    "# Splitting Testing and Training Data"
   ]
  },
  {
   "cell_type": "code",
   "execution_count": 50,
   "id": "d31480ab",
   "metadata": {},
   "outputs": [],
   "source": [
    "from sklearn.model_selection import train_test_split"
   ]
  },
  {
   "cell_type": "markdown",
   "id": "b2a26b5e",
   "metadata": {},
   "source": [
    "// Droping left column (target variable)"
   ]
  },
  {
   "cell_type": "code",
   "execution_count": 51,
   "id": "42da3062",
   "metadata": {},
   "outputs": [],
   "source": [
    "X = df_final.drop(['left'],axis=1).values\n",
    "y = df_final['left'].values"
   ]
  },
  {
   "cell_type": "markdown",
   "id": "8d2ff8ee",
   "metadata": {},
   "source": [
    "// 70-30 split of training and testing data"
   ]
  },
  {
   "cell_type": "code",
   "execution_count": 52,
   "id": "12978a19",
   "metadata": {},
   "outputs": [],
   "source": [
    "X_train, X_test, y_train, y_test = train_test_split(X, y, test_size=0.3)"
   ]
  },
  {
   "cell_type": "markdown",
   "id": "9e78b3ad",
   "metadata": {},
   "source": [
    "# Transforming the data"
   ]
  },
  {
   "cell_type": "markdown",
   "id": "133f9230",
   "metadata": {},
   "source": [
    "// Scaling the data set (mean=0, normally distributed)"
   ]
  },
  {
   "cell_type": "code",
   "execution_count": 53,
   "id": "2218fba0",
   "metadata": {},
   "outputs": [],
   "source": [
    "from sklearn.preprocessing import StandardScaler\n",
    "sc = StandardScaler()\n",
    "X_train = sc.fit_transform(X_train)\n",
    "X_test = sc.transform(X_test)"
   ]
  },
  {
   "cell_type": "markdown",
   "id": "c5605d7a",
   "metadata": {},
   "source": [
    "# Building the Artificial Neural Network"
   ]
  },
  {
   "cell_type": "code",
   "execution_count": 54,
   "id": "18874f70",
   "metadata": {},
   "outputs": [],
   "source": [
    "import keras\n",
    "from keras.models import Sequential\n",
    "from keras.layers import Dense"
   ]
  },
  {
   "cell_type": "code",
   "execution_count": 55,
   "id": "ca4a73cd",
   "metadata": {},
   "outputs": [],
   "source": [
    "classifier = Sequential()"
   ]
  },
  {
   "cell_type": "markdown",
   "id": "381b5851",
   "metadata": {},
   "source": [
    "// Adding Layers"
   ]
  },
  {
   "cell_type": "code",
   "execution_count": 56,
   "id": "a6afef97",
   "metadata": {},
   "outputs": [],
   "source": [
    "classifier.add(Dense(9, kernel_initializer = \"uniform\",activation = \"relu\", input_dim=18))"
   ]
  },
  {
   "cell_type": "markdown",
   "id": "9cf5c012",
   "metadata": {},
   "source": [
    "// Adding Output Layer"
   ]
  },
  {
   "cell_type": "code",
   "execution_count": 57,
   "id": "3ed7aae5",
   "metadata": {},
   "outputs": [],
   "source": [
    "classifier.add(Dense(1, kernel_initializer = \"uniform\",activation = \"sigmoid\"))"
   ]
  },
  {
   "cell_type": "markdown",
   "id": "8fe9435a",
   "metadata": {},
   "source": [
    "// Applying Gradient Descent (adam optimization)"
   ]
  },
  {
   "cell_type": "code",
   "execution_count": 58,
   "id": "3ad1039c",
   "metadata": {},
   "outputs": [],
   "source": [
    "classifier.compile(optimizer= \"adam\",loss = \"binary_crossentropy\",metrics = [\"accuracy\"])"
   ]
  },
  {
   "cell_type": "markdown",
   "id": "dbb8eb5a",
   "metadata": {},
   "source": [
    "// Fitting dataset to classifier"
   ]
  },
  {
   "cell_type": "code",
   "execution_count": 59,
   "id": "83ece523",
   "metadata": {},
   "outputs": [
    {
     "name": "stdout",
     "output_type": "stream",
     "text": [
      "Epoch 1/10\n",
      "1050/1050 [==============================] - 3s 2ms/step - loss: 0.4176 - accuracy: 0.7948\n",
      "Epoch 2/10\n",
      "1050/1050 [==============================] - 2s 2ms/step - loss: 0.2714 - accuracy: 0.8461\n",
      "Epoch 3/10\n",
      "1050/1050 [==============================] - 3s 3ms/step - loss: 0.2246 - accuracy: 0.9243\n",
      "Epoch 4/10\n",
      "1050/1050 [==============================] - 3s 3ms/step - loss: 0.1992 - accuracy: 0.9489\n",
      "Epoch 5/10\n",
      "1050/1050 [==============================] - 2s 2ms/step - loss: 0.1849 - accuracy: 0.9533\n",
      "Epoch 6/10\n",
      "1050/1050 [==============================] - 3s 2ms/step - loss: 0.1756 - accuracy: 0.9541\n",
      "Epoch 7/10\n",
      "1050/1050 [==============================] - 3s 2ms/step - loss: 0.1697 - accuracy: 0.9549\n",
      "Epoch 8/10\n",
      "1050/1050 [==============================] - 3s 2ms/step - loss: 0.1660 - accuracy: 0.9557\n",
      "Epoch 9/10\n",
      "1050/1050 [==============================] - 3s 3ms/step - loss: 0.1629 - accuracy: 0.9561\n",
      "Epoch 10/10\n",
      "1050/1050 [==============================] - 3s 3ms/step - loss: 0.1610 - accuracy: 0.9554\n"
     ]
    },
    {
     "data": {
      "text/plain": [
       "<keras.callbacks.History at 0x1316d3ae1f0>"
      ]
     },
     "execution_count": 59,
     "metadata": {},
     "output_type": "execute_result"
    }
   ],
   "source": [
    "classifier.fit(X_train, y_train, batch_size = 10, epochs = 10)"
   ]
  },
  {
   "cell_type": "markdown",
   "id": "19e81d26",
   "metadata": {},
   "source": [
    "# Running Predictions on the Test Set"
   ]
  },
  {
   "cell_type": "code",
   "execution_count": 60,
   "id": "da70e83a",
   "metadata": {},
   "outputs": [
    {
     "name": "stdout",
     "output_type": "stream",
     "text": [
      "141/141 [==============================] - 0s 2ms/step\n"
     ]
    }
   ],
   "source": [
    "y_pred = classifier.predict(X_test)"
   ]
  },
  {
   "cell_type": "code",
   "execution_count": 61,
   "id": "7ec9c641",
   "metadata": {},
   "outputs": [],
   "source": [
    "y_pred = (y_pred > 0.5)"
   ]
  },
  {
   "cell_type": "markdown",
   "id": "f0d6812f",
   "metadata": {},
   "source": [
    "# Checking the Confusion Matrix"
   ]
  },
  {
   "cell_type": "code",
   "execution_count": 62,
   "id": "61bc9ce0",
   "metadata": {},
   "outputs": [
    {
     "data": {
      "text/plain": [
       "array([[3320,   97],\n",
       "       [ 102,  981]], dtype=int64)"
      ]
     },
     "execution_count": 62,
     "metadata": {},
     "output_type": "execute_result"
    }
   ],
   "source": [
    "from sklearn.metrics import confusion_matrix\n",
    "cm = confusion_matrix(y_test, y_pred)\n",
    "cm"
   ]
  },
  {
   "cell_type": "markdown",
   "id": "24d5bc20",
   "metadata": {},
   "source": [
    "// correct predictions: 3321+992=4313\n",
    "//  total observations: 3321+108+79+992=4500\n",
    "//  accuracy=4313/4500=95.8%"
   ]
  },
  {
   "cell_type": "markdown",
   "id": "5129536d",
   "metadata": {},
   "source": [
    "# Making a single prediction"
   ]
  },
  {
   "cell_type": "code",
   "execution_count": 71,
   "id": "11585b0e",
   "metadata": {},
   "outputs": [
    {
     "name": "stdout",
     "output_type": "stream",
     "text": [
      "1/1 [==============================] - 0s 77ms/step\n"
     ]
    }
   ],
   "source": [
    "new_pred = classifier.predict(sc.transform(np.array([[0.26,0.7 ,3., 238., 6., 0.,0.,0.,0., 0.,0.,0.,0.,0.,1.,0., 0.,1.]])))"
   ]
  },
  {
   "cell_type": "code",
   "execution_count": 81,
   "id": "1582d44e",
   "metadata": {},
   "outputs": [
    {
     "name": "stdout",
     "output_type": "stream",
     "text": [
      "1/1 [==============================] - 0s 48ms/step\n"
     ]
    }
   ],
   "source": [
    "test_pred = classifier.predict(sc.transform(np.array([[0.10,0.2 ,1, 100, 2, 1,0,1,0, 1,0,1,0,1,1,1, 0,1]])))"
   ]
  },
  {
   "cell_type": "code",
   "execution_count": 84,
   "id": "ebf5d1c7",
   "metadata": {},
   "outputs": [
    {
     "data": {
      "text/plain": [
       "array([[-2.05449089, -3.03951905, -2.27040209, -2.02383327, -1.01757982,\n",
       "         2.43422713, -0.14798629,  4.21286296, -0.23534659,  4.4120162 ,\n",
       "        -0.20939364,  4.05108343, -0.25478482,  1.63196011,  2.38301347,\n",
       "         2.13493962, -0.97711669,  1.15595246]])"
      ]
     },
     "execution_count": 84,
     "metadata": {},
     "output_type": "execute_result"
    }
   ],
   "source": [
    "sc.transform(np.array([[0.10,0.2 ,1, 100, 2, 1,0,1,0, 1,0,1,0,1,1,1, 0,1]]))"
   ]
  },
  {
   "cell_type": "code",
   "execution_count": 83,
   "id": "3ca3bb6f",
   "metadata": {},
   "outputs": [
    {
     "data": {
      "text/plain": [
       "array([[0.7203589]], dtype=float32)"
      ]
     },
     "execution_count": 83,
     "metadata": {},
     "output_type": "execute_result"
    }
   ],
   "source": [
    "test_pred"
   ]
  },
  {
   "cell_type": "code",
   "execution_count": 72,
   "id": "33410ee7",
   "metadata": {},
   "outputs": [
    {
     "data": {
      "text/plain": [
       "array([[0.01444816]], dtype=float32)"
      ]
     },
     "execution_count": 72,
     "metadata": {},
     "output_type": "execute_result"
    }
   ],
   "source": [
    "new_pred"
   ]
  },
  {
   "cell_type": "code",
   "execution_count": 64,
   "id": "e050cc2d",
   "metadata": {},
   "outputs": [
    {
     "data": {
      "text/plain": [
       "array([[False]])"
      ]
     },
     "execution_count": 64,
     "metadata": {},
     "output_type": "execute_result"
    }
   ],
   "source": [
    "new_pred = (new_pred > 0.5)\n",
    "new_pred"
   ]
  },
  {
   "cell_type": "markdown",
   "id": "c5521d71",
   "metadata": {},
   "source": [
    "// saving model"
   ]
  },
  {
   "cell_type": "code",
   "execution_count": 70,
   "id": "341eed8f",
   "metadata": {},
   "outputs": [],
   "source": [
    "tfjs.converters.save_keras_model(classifier, 'C:/Users/aniru/DeepLearningModelMinorProject')"
   ]
  },
  {
   "cell_type": "markdown",
   "id": "806d8140",
   "metadata": {},
   "source": [
    "# Improving the Model Accuracy"
   ]
  },
  {
   "cell_type": "markdown",
   "id": "74ae66cc",
   "metadata": {},
   "source": [
    "// K-fold cross-validation"
   ]
  },
  {
   "cell_type": "code",
   "execution_count": 27,
   "id": "a4ac129e",
   "metadata": {},
   "outputs": [],
   "source": [
    "from keras.wrappers.scikit_learn import KerasClassifier\n",
    "from sklearn.model_selection import cross_val_score"
   ]
  },
  {
   "cell_type": "markdown",
   "id": "ec42abe1",
   "metadata": {},
   "source": [
    "// Function to be passed to kerasClassifier\n",
    "// this function creates the neural network design that we used earlier"
   ]
  },
  {
   "cell_type": "code",
   "execution_count": 28,
   "id": "0fbbc841",
   "metadata": {},
   "outputs": [],
   "source": [
    "def make_classifier():\n",
    "    classifier = Sequential()\n",
    "    classifier.add(Dense(9, kernel_initializer = \"uniform\", activation = \"relu\", input_dim=18))\n",
    "    classifier.add(Dense(1, kernel_initializer = \"uniform\", activation = \"sigmoid\"))\n",
    "    classifier.compile(optimizer= \"adam\",loss = \"binary_crossentropy\",metrics = [\"accuracy\"])\n",
    "    return classifier"
   ]
  },
  {
   "cell_type": "code",
   "execution_count": 29,
   "id": "8525f1e6",
   "metadata": {},
   "outputs": [
    {
     "name": "stderr",
     "output_type": "stream",
     "text": [
      "C:\\Users\\aniru\\AppData\\Local\\Temp\\ipykernel_15816\\128404206.py:1: DeprecationWarning: KerasClassifier is deprecated, use Sci-Keras (https://github.com/adriangb/scikeras) instead. See https://www.adriangb.com/scikeras/stable/migration.html for help migrating.\n",
      "  classifier = KerasClassifier(build_fn = make_classifier, batch_size=10, nb_epoch=1)\n"
     ]
    }
   ],
   "source": [
    "classifier = KerasClassifier(build_fn = make_classifier, batch_size=10, nb_epoch=1)"
   ]
  },
  {
   "cell_type": "code",
   "execution_count": 30,
   "id": "a1bc0e13",
   "metadata": {},
   "outputs": [],
   "source": [
    "accuracies = cross_val_score(estimator = classifier,X = X_train,y = y_train,cv = 10,n_jobs = -1)"
   ]
  },
  {
   "cell_type": "code",
   "execution_count": 31,
   "id": "fc841ad1",
   "metadata": {},
   "outputs": [
    {
     "data": {
      "text/plain": [
       "0.8353247046470642"
      ]
     },
     "execution_count": 31,
     "metadata": {},
     "output_type": "execute_result"
    }
   ],
   "source": [
    "mean = accuracies.mean()\n",
    "mean"
   ]
  },
  {
   "cell_type": "code",
   "execution_count": 32,
   "id": "e6adfb68",
   "metadata": {},
   "outputs": [
    {
     "data": {
      "text/plain": [
       "0.0033742223006562712"
      ]
     },
     "execution_count": 32,
     "metadata": {},
     "output_type": "execute_result"
    }
   ],
   "source": [
    "variance = accuracies.var()\n",
    "variance"
   ]
  },
  {
   "cell_type": "markdown",
   "id": "6ae47f3e",
   "metadata": {},
   "source": [
    "# Adding Dropout Regularization (to fight Over-Fitting)"
   ]
  },
  {
   "cell_type": "markdown",
   "id": "f7fae345",
   "metadata": {},
   "source": [
    "Adding dropout layer"
   ]
  },
  {
   "cell_type": "code",
   "execution_count": 33,
   "id": "e5cd9d9c",
   "metadata": {},
   "outputs": [],
   "source": [
    "from keras.layers import Dropout\n",
    "\n",
    "classifier = Sequential()\n",
    "classifier.add(Dense(9, kernel_initializer = \"uniform\", activation = \"relu\", input_dim=18))\n",
    "classifier.add(Dropout(rate = 0.1))\n",
    "classifier.add(Dense(1, kernel_initializer = \"uniform\", activation = \"sigmoid\"))\n",
    "classifier.compile(optimizer= \"adam\",loss = \"binary_crossentropy\",metrics = [\"accuracy\"])"
   ]
  },
  {
   "cell_type": "markdown",
   "id": "11c44e41",
   "metadata": {},
   "source": [
    "# Hyperparameter Tuning"
   ]
  },
  {
   "cell_type": "markdown",
   "id": "0cc63034",
   "metadata": {},
   "source": [
    "Grid search"
   ]
  },
  {
   "cell_type": "code",
   "execution_count": 34,
   "id": "85c149c7",
   "metadata": {},
   "outputs": [],
   "source": [
    "from sklearn.model_selection import GridSearchCV\n",
    "def make_classifier(optimizer):\n",
    "    classifier = Sequential()\n",
    "    classifier.add(Dense(9, kernel_initializer = \"uniform\", activation = \"relu\", input_dim=18))\n",
    "    classifier.add(Dense(1, kernel_initializer = \"uniform\", activation = \"sigmoid\"))\n",
    "    classifier.compile(optimizer= optimizer,loss = \"binary_crossentropy\",metrics = [\"accuracy\"])\n",
    "    return classifier"
   ]
  },
  {
   "cell_type": "code",
   "execution_count": 35,
   "id": "786e5386",
   "metadata": {},
   "outputs": [
    {
     "name": "stderr",
     "output_type": "stream",
     "text": [
      "C:\\Users\\aniru\\AppData\\Local\\Temp\\ipykernel_15816\\4215114608.py:1: DeprecationWarning: KerasClassifier is deprecated, use Sci-Keras (https://github.com/adriangb/scikeras) instead. See https://www.adriangb.com/scikeras/stable/migration.html for help migrating.\n",
      "  classifier = KerasClassifier(build_fn = make_classifier)\n"
     ]
    }
   ],
   "source": [
    "classifier = KerasClassifier(build_fn = make_classifier)"
   ]
  },
  {
   "cell_type": "markdown",
   "id": "01d021ef",
   "metadata": {},
   "source": [
    "Setting up parameters to experiment with"
   ]
  },
  {
   "cell_type": "code",
   "execution_count": 36,
   "id": "f78ca7ee",
   "metadata": {},
   "outputs": [],
   "source": [
    "params = {\n",
    "    'batch_size':[20,35],\n",
    "    'epochs':[2,3],\n",
    "    'optimizer':['adam','rmsprop']\n",
    "}"
   ]
  },
  {
   "cell_type": "code",
   "execution_count": 37,
   "id": "f0dc8c7c",
   "metadata": {},
   "outputs": [],
   "source": [
    "grid_search = GridSearchCV(estimator=classifier,\n",
    "                           param_grid=params,\n",
    "                           scoring=\"accuracy\",\n",
    "                           cv=2)"
   ]
  },
  {
   "cell_type": "code",
   "execution_count": 38,
   "id": "517c359c",
   "metadata": {},
   "outputs": [
    {
     "name": "stdout",
     "output_type": "stream",
     "text": [
      "Epoch 1/2\n",
      "263/263 [==============================] - 1s 2ms/step - loss: 0.5715 - accuracy: 0.7666\n",
      "Epoch 2/2\n",
      "263/263 [==============================] - 1s 2ms/step - loss: 0.3976 - accuracy: 0.7967\n",
      "165/165 [==============================] - 0s 2ms/step\n",
      "Epoch 1/2\n",
      "263/263 [==============================] - 2s 3ms/step - loss: 0.5854 - accuracy: 0.7579\n",
      "Epoch 2/2\n",
      "263/263 [==============================] - 1s 3ms/step - loss: 0.4117 - accuracy: 0.7962\n",
      "165/165 [==============================] - 0s 2ms/step\n",
      "Epoch 1/2\n",
      "263/263 [==============================] - 1s 2ms/step - loss: 0.5831 - accuracy: 0.7670\n",
      "Epoch 2/2\n",
      "263/263 [==============================] - 1s 2ms/step - loss: 0.4260 - accuracy: 0.7718\n",
      "165/165 [==============================] - 0s 2ms/step\n",
      "Epoch 1/2\n",
      "263/263 [==============================] - 1s 2ms/step - loss: 0.5887 - accuracy: 0.7619\n",
      "Epoch 2/2\n",
      "263/263 [==============================] - 1s 2ms/step - loss: 0.4320 - accuracy: 0.7766\n",
      "165/165 [==============================] - 0s 2ms/step\n",
      "Epoch 1/3\n",
      "263/263 [==============================] - 1s 2ms/step - loss: 0.5895 - accuracy: 0.7737\n",
      "Epoch 2/3\n",
      "263/263 [==============================] - 1s 2ms/step - loss: 0.4084 - accuracy: 0.8066\n",
      "Epoch 3/3\n",
      "263/263 [==============================] - 1s 2ms/step - loss: 0.3467 - accuracy: 0.8135\n",
      "165/165 [==============================] - 0s 2ms/step\n",
      "Epoch 1/3\n",
      "263/263 [==============================] - 1s 2ms/step - loss: 0.5871 - accuracy: 0.7550\n",
      "Epoch 2/3\n",
      "263/263 [==============================] - 1s 2ms/step - loss: 0.4148 - accuracy: 0.7958\n",
      "Epoch 3/3\n",
      "263/263 [==============================] - 1s 2ms/step - loss: 0.3511 - accuracy: 0.8091\n",
      "165/165 [==============================] - 0s 2ms/step\n",
      "Epoch 1/3\n",
      "263/263 [==============================] - 1s 2ms/step - loss: 0.6144 - accuracy: 0.7607\n",
      "Epoch 2/3\n",
      "263/263 [==============================] - 1s 3ms/step - loss: 0.4359 - accuracy: 0.8268\n",
      "Epoch 3/3\n",
      "263/263 [==============================] - 1s 3ms/step - loss: 0.3343 - accuracy: 0.8798\n",
      "165/165 [==============================] - 0s 2ms/step\n",
      "Epoch 1/3\n",
      "263/263 [==============================] - 2s 2ms/step - loss: 0.6005 - accuracy: 0.7606\n",
      "Epoch 2/3\n",
      "263/263 [==============================] - 1s 2ms/step - loss: 0.4417 - accuracy: 0.7804\n",
      "Epoch 3/3\n",
      "263/263 [==============================] - 1s 2ms/step - loss: 0.3711 - accuracy: 0.8211\n",
      "165/165 [==============================] - 0s 2ms/step\n",
      "Epoch 1/2\n",
      "150/150 [==============================] - 1s 2ms/step - loss: 0.6334 - accuracy: 0.7630\n",
      "Epoch 2/2\n",
      "150/150 [==============================] - 0s 2ms/step - loss: 0.4793 - accuracy: 0.7672\n",
      "165/165 [==============================] - 0s 2ms/step\n",
      "Epoch 1/2\n",
      "150/150 [==============================] - 1s 2ms/step - loss: 0.6366 - accuracy: 0.7524\n",
      "Epoch 2/2\n",
      "150/150 [==============================] - 0s 2ms/step - loss: 0.4794 - accuracy: 0.7848\n",
      "165/165 [==============================] - 0s 2ms/step\n",
      "Epoch 1/2\n",
      "150/150 [==============================] - 1s 2ms/step - loss: 0.6294 - accuracy: 0.7661\n",
      "Epoch 2/2\n",
      "150/150 [==============================] - 0s 2ms/step - loss: 0.4943 - accuracy: 0.7674\n",
      "165/165 [==============================] - 0s 2ms/step\n",
      "Epoch 1/2\n",
      "150/150 [==============================] - 1s 2ms/step - loss: 0.6402 - accuracy: 0.7579\n",
      "Epoch 2/2\n",
      "150/150 [==============================] - 0s 2ms/step - loss: 0.5092 - accuracy: 0.7619\n",
      "165/165 [==============================] - 0s 2ms/step\n",
      "Epoch 1/3\n",
      "150/150 [==============================] - 1s 2ms/step - loss: 0.6286 - accuracy: 0.7670\n",
      "Epoch 2/3\n",
      "150/150 [==============================] - 0s 2ms/step - loss: 0.4697 - accuracy: 0.7674\n",
      "Epoch 3/3\n",
      "150/150 [==============================] - 0s 2ms/step - loss: 0.4048 - accuracy: 0.7803\n",
      "165/165 [==============================] - 0s 2ms/step\n",
      "Epoch 1/3\n",
      "150/150 [==============================] - 1s 3ms/step - loss: 0.6419 - accuracy: 0.7524\n",
      "Epoch 2/3\n",
      "150/150 [==============================] - 0s 2ms/step - loss: 0.4763 - accuracy: 0.7775\n",
      "Epoch 3/3\n",
      "150/150 [==============================] - 0s 3ms/step - loss: 0.3916 - accuracy: 0.7989\n",
      "165/165 [==============================] - 0s 2ms/step\n",
      "Epoch 1/3\n",
      "150/150 [==============================] - 1s 2ms/step - loss: 0.6402 - accuracy: 0.7622\n",
      "Epoch 2/3\n",
      "150/150 [==============================] - 0s 2ms/step - loss: 0.5055 - accuracy: 0.7824\n",
      "Epoch 3/3\n",
      "150/150 [==============================] - 0s 2ms/step - loss: 0.4151 - accuracy: 0.8118\n",
      "165/165 [==============================] - 0s 2ms/step\n",
      "Epoch 1/3\n",
      "150/150 [==============================] - 1s 2ms/step - loss: 0.6219 - accuracy: 0.7611\n",
      "Epoch 2/3\n",
      "150/150 [==============================] - 0s 2ms/step - loss: 0.4859 - accuracy: 0.7619\n",
      "Epoch 3/3\n",
      "150/150 [==============================] - 0s 2ms/step - loss: 0.4154 - accuracy: 0.7712\n",
      "165/165 [==============================] - 0s 2ms/step\n",
      "Epoch 1/3\n",
      "525/525 [==============================] - 2s 2ms/step - loss: 0.5142 - accuracy: 0.7745\n",
      "Epoch 2/3\n",
      "525/525 [==============================] - 1s 2ms/step - loss: 0.3432 - accuracy: 0.8498\n",
      "Epoch 3/3\n",
      "525/525 [==============================] - 1s 2ms/step - loss: 0.2579 - accuracy: 0.9148\n"
     ]
    }
   ],
   "source": [
    "grid_search = grid_search.fit(X_train,y_train)"
   ]
  },
  {
   "cell_type": "code",
   "execution_count": 39,
   "id": "6474a67e",
   "metadata": {},
   "outputs": [],
   "source": [
    "best_param = grid_search.best_params_\n",
    "best_accuracy = grid_search.best_score_"
   ]
  },
  {
   "cell_type": "code",
   "execution_count": 40,
   "id": "57f990b1",
   "metadata": {},
   "outputs": [
    {
     "data": {
      "text/plain": [
       "{'batch_size': 20, 'epochs': 3, 'optimizer': 'rmsprop'}"
      ]
     },
     "execution_count": 40,
     "metadata": {},
     "output_type": "execute_result"
    }
   ],
   "source": [
    "best_param"
   ]
  },
  {
   "cell_type": "code",
   "execution_count": 41,
   "id": "d1d20f23",
   "metadata": {},
   "outputs": [
    {
     "data": {
      "text/plain": [
       "0.8665574939444247"
      ]
     },
     "execution_count": 41,
     "metadata": {},
     "output_type": "execute_result"
    }
   ],
   "source": [
    "best_accuracy"
   ]
  },
  {
   "cell_type": "code",
   "execution_count": null,
   "id": "170008ce",
   "metadata": {},
   "outputs": [],
   "source": []
  }
 ],
 "metadata": {
  "kernelspec": {
   "display_name": "Python 3 (ipykernel)",
   "language": "python",
   "name": "python3"
  },
  "language_info": {
   "codemirror_mode": {
    "name": "ipython",
    "version": 3
   },
   "file_extension": ".py",
   "mimetype": "text/x-python",
   "name": "python",
   "nbconvert_exporter": "python",
   "pygments_lexer": "ipython3",
   "version": "3.9.13"
  }
 },
 "nbformat": 4,
 "nbformat_minor": 5
}
